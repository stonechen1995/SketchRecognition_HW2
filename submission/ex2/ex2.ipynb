{
 "cells": [
  {
   "cell_type": "code",
   "execution_count": 14,
   "metadata": {},
   "outputs": [
    {
     "name": "stdout",
     "output_type": "stream",
     "text": [
      "X.shape = (520, 13)\n",
      "X_new.shape = (520, 12)\n",
      "feature_importances_ = 0.9999999999999999\n",
      "X_new.shape: (520, 5)\n"
     ]
    },
    {
     "name": "stderr",
     "output_type": "stream",
     "text": [
      "/Users/henghong/opt/anaconda3/lib/python3.9/site-packages/sklearn/base.py:443: UserWarning: X has feature names, but SelectFromModel was fitted without feature names\n",
      "  warnings.warn(\n"
     ]
    }
   ],
   "source": [
    "# Load data\n",
    "import pandas as pd\n",
    "\n",
    "df = pd.read_csv('features.csv')\n",
    "X = df.iloc[:, range(13)]  # classes\n",
    "y = df.iloc[:, 13]  # label\n",
    "print(f'X.shape = {X.shape}')\n",
    "\n",
    "# shuffle data\n",
    "from sklearn.utils import shuffle\n",
    "df = shuffle(df, random_state=0)\n",
    "\n",
    "# feature selection\n",
    "from sklearn.feature_selection import SelectFromModel\n",
    "from sklearn.feature_selection import VarianceThreshold\n",
    "sel = VarianceThreshold(threshold=(.8 * (1 - .8)))\n",
    "X_new = sel.fit_transform(X)\n",
    "print(f'X_new.shape = {X_new.shape}')\n",
    "\n",
    "# from sklearn.feature_selection import SelectKBest\n",
    "# from sklearn.feature_selection import chi2\n",
    "# X_new = SelectKBest(chi2, k=2).fit_transform(X, y)\n",
    "\n",
    "# create 7 different classifiers\n",
    "from sklearn.dummy import DummyClassifier\n",
    "dummy_clf = DummyClassifier(strategy=\"most_frequent\")\n",
    "dummy_clf.fit(X, y)\n",
    "\n",
    "from sklearn.tree import DecisionTreeClassifier\n",
    "decisionTree_clf = DecisionTreeClassifier()\n",
    "decisionTree_clf.fit(X, y)\n",
    "\n",
    "from sklearn.ensemble import RandomForestClassifier\n",
    "randomForest_clf = RandomForestClassifier()\n",
    "randomForest_clf.fit(X, y)\n",
    "\n",
    "from sklearn.neural_network import MLPClassifier\n",
    "mlp_clf = MLPClassifier(max_iter=2000)\n",
    "mlp_clf.fit(X, y)  # will cause warning\n",
    "\n",
    "from sklearn.naive_bayes import GaussianNB\n",
    "gaussian_clf = GaussianNB()\n",
    "gaussian_clf.fit(X, y)\n",
    "\n",
    "from sklearn.neighbors import KNeighborsClassifier\n",
    "kN_clf = KNeighborsClassifier()\n",
    "kN_clf.fit(X, y)\n",
    "\n",
    "from sklearn.tree import ExtraTreeClassifier\n",
    "extraTree_clf = ExtraTreeClassifier()\n",
    "extraTree_clf.fit(X, y)\n",
    "print(f'feature_importances_ = {sum(extraTree_clf.feature_importances_)}')\n",
    "extraTree_model = SelectFromModel(extraTree_clf, prefit=True)\n",
    "X_new = extraTree_model.transform(X)\n",
    "print(f'X_new.shape: {X_new.shape}')\n",
    "\n",
    "clf_dict = {\"DummyClassifier\": dummy_clf, \"DecisionTreeClassifier\": decisionTree_clf,\n",
    "            \"RandomForestClassifier\": randomForest_clf, \"MLPClassifier\": mlp_clf,\n",
    "            \"GaussianNB\": gaussian_clf, \"KNClassifier\": kN_clf,\n",
    "            \"ExtraTreeClassifier\": extraTree_clf}\n",
    "\n",
    "import pickle\n",
    "for clf in clf_dict:\n",
    "    path = f'./{clf}.sav'\n",
    "    pickle.dump(clf_dict[clf], open(path, \"wb\"))\n",
    "    "
   ]
  }
 ],
 "metadata": {
  "kernelspec": {
   "display_name": "Python 3.9.12 ('base')",
   "language": "python",
   "name": "python3"
  },
  "language_info": {
   "codemirror_mode": {
    "name": "ipython",
    "version": 3
   },
   "file_extension": ".py",
   "mimetype": "text/x-python",
   "name": "python",
   "nbconvert_exporter": "python",
   "pygments_lexer": "ipython3",
   "version": "3.9.12"
  },
  "orig_nbformat": 4,
  "vscode": {
   "interpreter": {
    "hash": "3c47b7e4abb862351f847362d5a4be1717906988c2d38db0a738787e53c2242c"
   }
  }
 },
 "nbformat": 4,
 "nbformat_minor": 2
}
