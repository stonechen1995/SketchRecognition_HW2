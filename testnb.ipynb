{
 "cells": [
  {
   "cell_type": "code",
   "execution_count": 3,
   "metadata": {},
   "outputs": [
    {
     "data": {
      "text/plain": [
       "114     Virginica\n",
       "62     Versicolor\n",
       "33         Setosa\n",
       "107     Virginica\n",
       "Name: variety, dtype: object"
      ]
     },
     "execution_count": 3,
     "metadata": {},
     "output_type": "execute_result"
    }
   ],
   "source": [
    "# Load data\n",
    "import pandas as pd\n",
    "\n",
    "df = pd.read_csv('iris.csv')\n",
    "\n",
    "from sklearn.utils import shuffle\n",
    "df = shuffle(df, random_state=0)\n",
    "\n",
    "from sklearn.tree import DecisionTreeClassifier\n",
    "clf = DecisionTreeClassifier()\n",
    "x = df.iloc[:, [0, 1, 2, 3]]\n",
    "y = df.iloc[:, 4]\n",
    "y.head(4)"
   ]
  }
 ],
 "metadata": {
  "kernelspec": {
   "display_name": "Python 3.9.12 ('base')",
   "language": "python",
   "name": "python3"
  },
  "language_info": {
   "codemirror_mode": {
    "name": "ipython",
    "version": 3
   },
   "file_extension": ".py",
   "mimetype": "text/x-python",
   "name": "python",
   "nbconvert_exporter": "python",
   "pygments_lexer": "ipython3",
   "version": "3.9.12"
  },
  "orig_nbformat": 4,
  "vscode": {
   "interpreter": {
    "hash": "3c47b7e4abb862351f847362d5a4be1717906988c2d38db0a738787e53c2242c"
   }
  }
 },
 "nbformat": 4,
 "nbformat_minor": 2
}
